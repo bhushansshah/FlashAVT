{
 "cells": [
  {
   "cell_type": "code",
   "execution_count": 3,
   "id": "0e71903b",
   "metadata": {},
   "outputs": [],
   "source": [
    "import numpy as np\n",
    "import os"
   ]
  },
  {
   "cell_type": "code",
   "execution_count": 6,
   "id": "de7310e5",
   "metadata": {},
   "outputs": [
    {
     "name": "stdout",
     "output_type": "stream",
     "text": [
      "/home/bhushansshah/Documents/FlashAVT/datasets/QVHighlight/features/pann_features\n"
     ]
    }
   ],
   "source": [
    "pann_features_path = \"../datasets/QVHighlight/features/pann_features\"\n",
    "absoluted_pann_features_path = os.path.abspath(pann_features_path)\n",
    "print(absoluted_pann_features_path)"
   ]
  },
  {
   "cell_type": "code",
   "execution_count": 7,
   "id": "383ef667",
   "metadata": {},
   "outputs": [
    {
     "name": "stdout",
     "output_type": "stream",
     "text": [
      "PANN features shape: (75, 2048)\n"
     ]
    }
   ],
   "source": [
    "features = np.load(os.path.join(absoluted_pann_features_path, \"_0ipsQzLdzA_360.0_510.0.npy\"))\n",
    "print(\"PANN features shape:\", features.shape)"
   ]
  },
  {
   "cell_type": "code",
   "execution_count": null,
   "id": "68bf34c4",
   "metadata": {},
   "outputs": [],
   "source": []
  }
 ],
 "metadata": {
  "kernelspec": {
   "display_name": "venv",
   "language": "python",
   "name": "python3"
  },
  "language_info": {
   "codemirror_mode": {
    "name": "ipython",
    "version": 3
   },
   "file_extension": ".py",
   "mimetype": "text/x-python",
   "name": "python",
   "nbconvert_exporter": "python",
   "pygments_lexer": "ipython3",
   "version": "3.12.3"
  }
 },
 "nbformat": 4,
 "nbformat_minor": 5
}
